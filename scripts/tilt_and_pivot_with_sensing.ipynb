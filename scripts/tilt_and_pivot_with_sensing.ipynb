{
 "cells": [
  {
   "cell_type": "code",
   "execution_count": 1,
   "metadata": {},
   "outputs": [],
   "source": [
    "import cv2\n",
    "# ROS packages\n",
    "import numpy as np\n",
    "import rospy\n",
    "import geometry_msgs.msg\n",
    "import time\n",
    "import roslib; roslib.load_manifest('ur_driver')\n",
    "import actionlib\n",
    "# ROS Image message\n",
    "from sensor_msgs.msg import Image\n",
    "from std_msgs.msg import String\n",
    "from thin_obj_bin_picking.msg import img_status\n",
    "# ROS Image message -> OpenCV2 image converter\n",
    "from cv_bridge import CvBridge, CvBridgeError\n",
    "#import tf\n",
    "\n",
    "import numpy\n",
    "import sys\n",
    "import copy\n",
    "import moveit_commander\n",
    "import moveit_msgs.msg\n",
    "import tf\n",
    "import math\n",
    "from sensor_msgs.msg import JointState\n",
    "from math import pi, sin, cos, atan2\n",
    "from moveit_msgs.msg import RobotTrajectory\n",
    "from trajectory_msgs.msg import JointTrajectoryPoint\n",
    "from geometry_msgs.msg import PoseStamped, Pose\n",
    "from math import sqrt, pi, acos, sin, cos\n",
    "from robotiq_force_torque_sensor.msg import ft_sensor\n",
    "from robotiq_c_model_control.msg import _CModel_robot_output as outputMsg\n",
    "from thin_obj_bin_picking.msg import blister_pose\n",
    "import re\n",
    "\n",
    "from geometry_msgs.msg import PoseWithCovariance"
   ]
  },
  {
   "cell_type": "code",
   "execution_count": 2,
   "metadata": {},
   "outputs": [],
   "source": [
    "import urx\n",
    "import math3d as m3d\n",
    "import numpy as np\n",
    "from math import pi,cos,sin\n",
    "from numpy.linalg import inv\n",
    "import rospy\n",
    "import tf\n",
    "from robotiq_ft_sensor.msg import ft_sensor\n",
    "from robotiq_2f_gripper_control.msg import _Robotiq2FGripper_robot_output as outputMsg\n",
    "from robotiq_2f_gripper_control.msg import _Robotiq2FGripper_robot_input  as inputMsg\n",
    "import logging\n",
    "import time\n",
    "from std_msgs.msg import Int32"
   ]
  },
  {
   "cell_type": "code",
   "execution_count": 4,
   "metadata": {},
   "outputs": [],
   "source": [
    "john_pub = rospy.Publisher('JohnGripperRobotOutput', Int32, queue_size=10)\n",
    "rospy.init_node('wide_range_obj_picking',\n",
    "                  anonymous=True)\n",
    "\n",
    "logging.basicConfig(level=logging.WARN)\n",
    "\n",
    "robHong = urx.Robot(\"192.168.1.102\")\n",
    "robKong = urx.Robot(\"192.168.1.10\")\n",
    "gripper_pub = rospy.Publisher('Robotiq2FGripperRobotOutput', outputMsg.Robotiq2FGripper_robot_output, queue_size=10)"
   ]
  },
  {
   "cell_type": "code",
   "execution_count": 5,
   "metadata": {},
   "outputs": [],
   "source": [
    "#global speed for motion of robots\n",
    "global_speed = 3"
   ]
  },
  {
   "cell_type": "code",
   "execution_count": 6,
   "metadata": {},
   "outputs": [],
   "source": [
    "#tag detection trigger\n",
    "is_send_tag = 0"
   ]
  },
  {
   "cell_type": "code",
   "execution_count": 7,
   "metadata": {},
   "outputs": [],
   "source": [
    "def gactive():\n",
    "    command = outputMsg.Robotiq2FGripper_robot_output();\n",
    "    command.rACT = 1\n",
    "    command.rGTO = 1\n",
    "    command.rSP  = 255\n",
    "    command.rFR  = 150\t\t\t\t\t##force need to be adjusted later\n",
    "    gripper_pub.publish(command)\n",
    "    rospy.sleep(0.5)\n",
    "    return command\n",
    "\n",
    "###___Reset gripper___###\n",
    "def greset():\n",
    "    command = outputMsg.Robotiq2FGripper_robot_output();\n",
    "    command.rACT = 0\n",
    "    gripper_pub.publish(command)\n",
    "    rospy.sleep(0.5)\n",
    "\n",
    "###___Set position of gripper___###\n",
    "def gposition(degree):\n",
    "    command = outputMsg.Robotiq2FGripper_robot_output();\n",
    "    command.rACT = 1\n",
    "    command.rGTO = 1\n",
    "    command.rATR = 0\n",
    "    command.rPR = degree\n",
    "    command.rSP  = 150\n",
    "    command.rFR  = 150 ##force need to be adjusted later\n",
    "    gripper_pub.publish(command)\n",
    "\n",
    "def jposition(degree):\n",
    "    john_pub.publish(degree)\n",
    "    rospy.sleep(0.5)\n",
    "\n",
    "def go_to_home():\n",
    "    Hong_joint0 = -pi*46.5/180\n",
    "    Hong_joint1 = -pi*131/180#-pi*68.03/180 #81.05\n",
    "    Hong_joint2 = -pi*63.38/180#-pi*137.81/180 #128.91\n",
    "    Hong_joint3 = -pi/2-(Hong_joint1+Hong_joint2)#-pi*3/2-(group_variable_values[1]+group_variable_values[2])#-pi/2-(group_variable_values[1]+group_variable_values[2])\n",
    "    Hong_joint4 = -pi*89.16/180#pi*1/2#-pi*1/2\n",
    "    Hong_joint5 = -pi*1.5/180\n",
    "\n",
    "    robHong.movej((Hong_joint0,Hong_joint1, Hong_joint2, Hong_joint3, Hong_joint4, Hong_joint5), 1, 0.4)\n",
    "\n",
    "    Kong_joint0 = -Hong_joint0\n",
    "    Kong_joint1 = -pi-Hong_joint1\n",
    "    Kong_joint2 = -Hong_joint2\n",
    "    Kong_joint3 = -Hong_joint3+pi\n",
    "    Kong_joint4 = -Hong_joint4\n",
    "    Kong_joint5 = Hong_joint5+pi/2\n"
   ]
  },
  {
   "cell_type": "code",
   "execution_count": null,
   "metadata": {},
   "outputs": [],
   "source": [
    "def begin_rotate(carton_angle):\n",
    "    carton_length = 0.303\n",
    "    \n",
    "    #phi, tilt angle\n",
    "    alpha = 27\n",
    "    \n",
    "    print \"finish is_descend\"\n",
    "    is_descend = True\n",
    "    global global_speed\n",
    "\n",
    "    tilt_fix_pose = (0, 0, 0, 0, 0, (carton_angle-pi))\n",
    "    \n",
    "    #tilt\n",
    "    Tbf = m3d.Transform(tilt_fix_pose)\n",
    "    Rbf = Tbf.orient\n",
    "    Delta_f = (carton_length*(1-cos(alpha*pi/180)),0,carton_length*sin(alpha*pi/180),0,alpha*pi/180,0)\n",
    "    Delta_b = m3d.Transform()\n",
    "    Delta_b.pos = Rbf*m3d.Transform(Delta_f).pos\n",
    "    R_delta_f = m3d.Transform(Delta_f).orient\n",
    "    Delta_b.orient = Rbf*R_delta_f*Rbf.inverse\n",
    "    Rot_base = m3d.Transform.get_pose_vector(Delta_b)+m3d.Transform.get_pose_vector(robHong.get_pose())\n",
    "    robHong.set_pose(m3d.Transform(Rot_base), acc=0.1, vel=0.1)  # apply the new pose\n",
    "\n",
    "    #pivot\n",
    "    #beta parameter\n",
    "    inverse_act_beta = m3d.Transform((0,0,0,0,68*pi/180,0))\n",
    "    #gamma  parameter\n",
    "    inverse_act_gamma = m3d.Transform((0,0,0,-73*pi/180,0,0))\n",
    "    \n",
    "    inverse_act_final = m3d.Transform((0,0,0,0,0,10*pi/180))\n",
    "    \n",
    "    robHong.add_pose_tool( inverse_act_beta, acc=0.1, vel=0.03*global_speed, wait=True, command=\"movel\", threshold=None)\n",
    "    robHong.add_pose_tool( inverse_act_gamma, acc=0.1, vel=0.03*global_speed, wait=True, command=\"movel\", threshold=None)\n",
    "    robHong.add_pose_tool( inverse_act_final, acc=0.1, vel=0.03*global_speed, wait=True, command=\"movel\", threshold=None)\n",
    "    rospy.sleep(0.5)\n",
    "\n",
    "    gposition(240)\n",
    "    rospy.sleep(0.5)\n",
    "    robHong.movel_tool((0, 0, -0.07, 0, 0, 0), acc=0.1, vel=0.1*global_speed)\n",
    "    return\n",
    "    \n",
    "    \n"
   ]
  },
  {
   "cell_type": "code",
   "execution_count": 10,
   "metadata": {},
   "outputs": [],
   "source": [
    "def go_to_carton_camera_home():\n",
    "    global global_speed\n",
    "    \n",
    "    Hong_joint0 = -0.973358456288473\n",
    "    Hong_joint1 = -1.6687057654010218\n",
    "    Hong_joint2 = -1.2589800993548792\n",
    "    Hong_joint3 =  1.357000470161438\n",
    "    Hong_joint4 = -1.5656326452838343\n",
    "    Hong_joint5 = 2.1668648719787598\n",
    "\n",
    "    robHong.movej((Hong_joint0,Hong_joint1, Hong_joint2, Hong_joint3, Hong_joint4, Hong_joint5), 1, 0.2*global_speed)\n"
   ]
  },
  {
   "cell_type": "code",
   "execution_count": 11,
   "metadata": {},
   "outputs": [],
   "source": [
    "def go_to_blister_camera_home():\n",
    "    Hong_joint0 = pi*0/180\n",
    "    Hong_joint1 = pi*-68.03/180\n",
    "    Hong_joint2 = pi*-137.81/180\n",
    "    Hong_joint3 = pi*-64.16/180\n",
    "    Hong_joint4 = pi*90.0/180\n",
    "    Hong_joint5 = pi*-90.0/180\n",
    "\n",
    "    robHong.movej((Hong_joint0,Hong_joint1, Hong_joint2, Hong_joint3, Hong_joint4, Hong_joint5), 1, 0.2)"
   ]
  },
  {
   "cell_type": "code",
   "execution_count": 12,
   "metadata": {},
   "outputs": [],
   "source": [
    "def go_to_blister_camera_home2():\n",
    "    blister_camera_home_pose = [0.400887521814743, 0.005921977874024514,0.07993296962552376,-3.140736877197115,-0.021274657722516237,-0.0004956758065318037]\n",
    "    robHong.movel(blister_camera_home_pose, acc=0.02, vel=0.05)"
   ]
  },
  {
   "cell_type": "code",
   "execution_count": 14,
   "metadata": {},
   "outputs": [],
   "source": [
    "def Kong_go_to_home():\n",
    "    robKong.set_tcp((0, 0, 0.106, 0, 0, 0))\n",
    "    \n",
    "    Kong_joint0 = pi*66.00/180\n",
    "    Kong_joint1 = pi*-76.90/180\n",
    "    Kong_joint2 = pi*111.34/180\n",
    "    Kong_joint3 = pi*237.00/180\n",
    "    Kong_joint4 = pi*-90.0/180\n",
    "    Kong_joint5 = pi*67.91/180\n",
    "    \n",
    "    robKong.movej((Kong_joint0,Kong_joint1, Kong_joint2, Kong_joint3, Kong_joint4, Kong_joint5), 1, 0.4)\n"
   ]
  },
  {
   "cell_type": "code",
   "execution_count": 15,
   "metadata": {},
   "outputs": [],
   "source": [
    "def Kong_go_to_home2():\n",
    "    robKong.set_tcp((0, 0, 0.106, 0, 0, 0))\n",
    "    \n",
    "    Kong_joint0 = pi*66.04/180\n",
    "    Kong_joint1 = pi*-76.90/180\n",
    "    Kong_joint2 = pi*111.27/180\n",
    "    Kong_joint3 = pi*237.00/180\n",
    "    Kong_joint4 = pi*-90.35/180\n",
    "    Kong_joint5 = pi*78.40/180\n",
    "\n",
    "    robKong.movej((Kong_joint0,Kong_joint1, Kong_joint2, Kong_joint3, Kong_joint4, Kong_joint5), 1, 0.2*global_speed)\n"
   ]
  },
  {
   "cell_type": "code",
   "execution_count": 29,
   "metadata": {},
   "outputs": [
    {
     "data": {
      "text/plain": [
       "<rospy.topics.Subscriber at 0x7f88b39fcf90>"
      ]
     },
     "execution_count": 29,
     "metadata": {},
     "output_type": "execute_result"
    }
   ],
   "source": [
    "from thin_obj_bin_picking.msg import carton_pose\n",
    "\n",
    "def pose_callback():\n",
    "    global global_speed\n",
    "    global tag_pose_x\n",
    "    global tag_pose_y\n",
    "    global tag_angle\n",
    "    \n",
    "    #Kong move to home position\n",
    "    Kong_go_to_home()\n",
    "    rospy.sleep(1)\n",
    "\n",
    "    #Kong move to the center point of tag\n",
    "    robKong.movel((tag_pose_x-0.017 , -0.44-(tag_pose_y+0.0434)+0.015, 0, 0, 0, 0), acc=0.2, vel=0.2,relative=True)\n",
    "    \n",
    "    robKong.movel_tool((0, 0, 0, 0, 0, tag_angle), acc=0.2, vel=0.2)\n",
    "    robKong.movel_tool((0.155, 0, 0, 0, 0, 0), acc=0.2, vel=0.1)\n",
    "    rospy.sleep(1)\n",
    "    robKong.movel((0, 0, -0.214, 0, 0, 0), acc=0.02, vel=0.05,relative=True)\n",
    "     \n",
    "    robKong.movel_tool((0, 0, 0, 0, -20.0*math.pi/90, 0), acc=0.1, vel=0.1)\n",
    "    robKong.movel((0, 0, -0.002, 0, 0, 0), acc=0.1, vel=0.1, relative=True)\n",
    "    \n",
    "    #Hong move to tilt point\n",
    "    robHong.set_tcp((0, 0, 0, 0, 0, 0))\n",
    "    rospy.sleep(1)\n",
    "    \n",
    "    robHong.movel((0, 0, -0.20, 0, 0, 0), acc=0.2, vel=0.2*global_speed,relative=True)\n",
    "    \n",
    "    robHong.set_tcp((-0.04, 0.0116, 0.270, 0, 0, 0))\n",
    "    rospy.sleep(1)\n",
    "    \n",
    "    rospy.sleep(1)\n",
    "    pose = robHong.getl()\n",
    "    \n",
    "\n",
    "    print 'tag pose x', tag_pose_x, ', tag_pose y', tag_pose_y, ', tag_angle', tag_angle\n",
    "    pose[0] -= tag_pose_x\n",
    "    pose[1] += tag_pose_y\n",
    " \n",
    "    pose[0] += 0.0118\n",
    "    pose[1] += -0.2008\n",
    "    \n",
    "    \n",
    "    robHong.movel(pose, acc=0.2, vel=0.2*global_speed)\n",
    "    \n",
    "    robHong.movel_tool((0, 0, 0, 0, 0, (tag_angle)), acc=0.2, vel=0.2*global_speed)\n",
    "    \n",
    "    robHong.movel_tool((-0.1274-0.03, -0.063, 0, 0, 0, 0), acc=0.2, vel=0.1*global_speed)\n",
    "\n",
    "    robHong.movel_tool((0, 0, 0, 0, 0, -43*pi/180), acc=0.2, vel=0.1*global_speed)\n",
    "    \n",
    "    #go descend   \n",
    "    robHong.movel((0, 0, -0.2995 -0.007, 0, 0, 0), acc=0.2, vel=0.1, wait=False, relative=True)\n",
    "    \n",
    "    #detect godown force z\n",
    "    rospy.sleep(0.5)\n",
    "    wrench = rospy.wait_for_message('/robotiq_ft_wrench', WrenchStamped, timeout = None)\n",
    "    init_fz = wrench.wrench.force.z\n",
    "    print 'init fz is', init_fz\n",
    "    \n",
    "    while True:\n",
    "        wrench = rospy.wait_for_message('/robotiq_ft_wrench', WrenchStamped, timeout = None)\n",
    "        current_fz = wrench.wrench.force.z\n",
    "        delta_z = abs(current_fz - init_fz)\n",
    "        if delta_z > 5:\n",
    "            break;\n",
    "\n",
    "    print 'exit go down loop'\n",
    "    robHong.stopl()\n",
    "\n",
    "    #go to contact point\n",
    "    robHong.translate_tool((0.03*cos(45*pi/180),0.03*sin(45*pi/180),0),vel=0.05 * global_speed, wait=False)\n",
    "    \n",
    "    #detect the contact torque with object\n",
    "    rospy.sleep(0.5)\n",
    "    wrench = rospy.wait_for_message('/robotiq_ft_wrench', WrenchStamped, timeout = None)\n",
    "    init_torque_y = wrench.wrench.torque.y\n",
    "    print 'init_torque_y is', init_torque_y\n",
    "    \n",
    "    while True:\n",
    "        wrench = rospy.wait_for_message('/robotiq_ft_wrench', WrenchStamped, timeout = None)\n",
    "        current_torque_y = wrench.wrench.torque.y\n",
    "        delta_ty = abs(current_torque_y - init_torque_y)\n",
    "        if delta_ty > 1:\n",
    "            print 'delta ty exceed'\n",
    "            break;\n",
    "\n",
    "    print 'exit go to contact loop'\n",
    "    robHong.stopl()\n",
    "    \n",
    "    begin_rotate(tag_angle)\n",
    "    \n",
    "pose_topic = '/carton_pose' #\"/usb_cam/image_raw\"\n",
    "rospy.Subscriber(pose_topic, carton_pose, pose_callback)"
   ]
  },
  {
   "cell_type": "code",
   "execution_count": null,
   "metadata": {},
   "outputs": [],
   "source": []
  },
  {
   "cell_type": "code",
   "execution_count": 18,
   "metadata": {},
   "outputs": [
    {
     "data": {
      "text/plain": [
       "<rospy.topics.Subscriber at 0x7f88b3a5d8d0>"
      ]
     },
     "execution_count": 18,
     "metadata": {},
     "output_type": "execute_result"
    }
   ],
   "source": [
    "#tag detection\n",
    "\n",
    "is_send_carton_img = 0\n",
    "is_send_blister_img = 0\n",
    "\n",
    "carton_img_count = 0\n",
    "blister_img_count = 0\n",
    "\n",
    "tag_pose_x = 0\n",
    "tag_pose_y = 0\n",
    "tag_angle = 0\n",
    "\n",
    "from apriltags_ros.msg import AprilTagDetectionArray\n",
    "from tf.transformations import euler_from_quaternion, quaternion_from_euler\n",
    "\n",
    "\n",
    "def tag_callback(msg):\n",
    "    global is_send_tag\n",
    "    global tag_pose_x\n",
    "    global tag_pose_y\n",
    "    global tag_angle\n",
    "    \n",
    "    if is_send_tag == 1:\n",
    "        tag_orientation = msg.detections[0].pose.pose.orientation\n",
    "        rpy = euler_from_quaternion([tag_orientation.x, tag_orientation.y, tag_orientation.z, tag_orientation.w])\n",
    "    #     print rpy[0] / 3.1415926 * 180, rpy[1] / 3.1415926 * 180 , rpy[2] / 3.1415926 * 180\n",
    "        tag_angle = rpy[2]\n",
    "        tag_pose_x = msg.detections[0].pose.pose.position.x\n",
    "        tag_pose_y = msg.detections[0].pose.pose.position.y\n",
    "        \n",
    "        print 'tag_x = ', tag_pose_x, ',tag_y = ', tag_pose_y, ',tag angle = ', tag_angle/ 3.15159296 * 180\n",
    "        is_send_tag = 0\n",
    "    \n",
    "    \n",
    "tag_topic = '/tag_detections' \n",
    "\n",
    "rospy.Subscriber(tag_topic, AprilTagDetectionArray, tag_callback)"
   ]
  },
  {
   "cell_type": "code",
   "execution_count": 19,
   "metadata": {},
   "outputs": [],
   "source": [
    "carton_img_count = 0\n",
    "blister_img_count = 0\n",
    "carton_count = 0"
   ]
  },
  {
   "cell_type": "code",
   "execution_count": 38,
   "metadata": {},
   "outputs": [
    {
     "name": "stdout",
     "output_type": "stream",
     "text": [
      "tag_x =  -0.0149518426538 ,tag_y =  0.026426575455 ,tag angle =  -6.17951961664\n"
     ]
    }
   ],
   "source": [
    "#main entry function for the program\n",
    "#1. all robots go to home, and detect the april tag\n",
    "global is_send_tag\n",
    "\n",
    "try:\n",
    "    gposition(100)\n",
    "    rospy.sleep(1)\n",
    "    jposition(120)\n",
    "    \n",
    "    go_to_carton_camera_home()\n",
    "    Kong_go_to_home()\n",
    "    rospy.sleep(1)\n",
    "    is_send_tag = 1\n",
    "\n",
    "except rospy.ROSInterruptException: pass"
   ]
  },
  {
   "cell_type": "code",
   "execution_count": 39,
   "metadata": {},
   "outputs": [
    {
     "name": "stdout",
     "output_type": "stream",
     "text": [
      "tag pose x -0.0149518426538 , tag_pose y 0.026426575455 , tag_angle -0.108196280667\n",
      "init fz is 18.6900005341\n",
      "exit go down loop\n",
      "init_torque_y is -0.264999985695\n"
     ]
    },
    {
     "ename": "KeyboardInterrupt",
     "evalue": "",
     "output_type": "error",
     "traceback": [
      "\u001b[1;31m---------------------------------------------------------------------------\u001b[0m",
      "\u001b[1;31mKeyboardInterrupt\u001b[0m                         Traceback (most recent call last)",
      "\u001b[1;32m<ipython-input-39-d570841cfa4a>\u001b[0m in \u001b[0;36m<module>\u001b[1;34m()\u001b[0m\n\u001b[0;32m      1\u001b[0m \u001b[1;33m\u001b[0m\u001b[0m\n\u001b[0;32m      2\u001b[0m \u001b[1;33m\u001b[0m\u001b[0m\n\u001b[1;32m----> 3\u001b[1;33m \u001b[0mpose_callback\u001b[0m\u001b[1;33m(\u001b[0m\u001b[1;33m)\u001b[0m\u001b[1;33m\u001b[0m\u001b[0m\n\u001b[0m",
      "\u001b[1;32m<ipython-input-29-89613c42bf09>\u001b[0m in \u001b[0;36mpose_callback\u001b[1;34m()\u001b[0m\n\u001b[0;32m     99\u001b[0m \u001b[1;33m\u001b[0m\u001b[0m\n\u001b[0;32m    100\u001b[0m     \u001b[1;32mwhile\u001b[0m \u001b[0mTrue\u001b[0m\u001b[1;33m:\u001b[0m\u001b[1;33m\u001b[0m\u001b[0m\n\u001b[1;32m--> 101\u001b[1;33m         \u001b[0mwrench\u001b[0m \u001b[1;33m=\u001b[0m \u001b[0mrospy\u001b[0m\u001b[1;33m.\u001b[0m\u001b[0mwait_for_message\u001b[0m\u001b[1;33m(\u001b[0m\u001b[1;34m'/robotiq_ft_wrench'\u001b[0m\u001b[1;33m,\u001b[0m \u001b[0mWrenchStamped\u001b[0m\u001b[1;33m,\u001b[0m \u001b[0mtimeout\u001b[0m \u001b[1;33m=\u001b[0m \u001b[0mNone\u001b[0m\u001b[1;33m)\u001b[0m\u001b[1;33m\u001b[0m\u001b[0m\n\u001b[0m\u001b[0;32m    102\u001b[0m         \u001b[0mcurrent_torque_y\u001b[0m \u001b[1;33m=\u001b[0m \u001b[0mwrench\u001b[0m\u001b[1;33m.\u001b[0m\u001b[0mwrench\u001b[0m\u001b[1;33m.\u001b[0m\u001b[0mtorque\u001b[0m\u001b[1;33m.\u001b[0m\u001b[0my\u001b[0m\u001b[1;33m\u001b[0m\u001b[0m\n\u001b[0;32m    103\u001b[0m         \u001b[0mdelta_ty\u001b[0m \u001b[1;33m=\u001b[0m \u001b[0mabs\u001b[0m\u001b[1;33m(\u001b[0m\u001b[0mcurrent_torque_y\u001b[0m \u001b[1;33m-\u001b[0m \u001b[0minit_torque_y\u001b[0m\u001b[1;33m)\u001b[0m\u001b[1;33m\u001b[0m\u001b[0m\n",
      "\u001b[1;32m/opt/ros/kinetic/lib/python2.7/dist-packages/rospy/client.pyc\u001b[0m in \u001b[0;36mwait_for_message\u001b[1;34m(topic, topic_type, timeout)\u001b[0m\n\u001b[0;32m    419\u001b[0m         \u001b[1;32melse\u001b[0m\u001b[1;33m:\u001b[0m\u001b[1;33m\u001b[0m\u001b[0m\n\u001b[0;32m    420\u001b[0m             \u001b[1;32mwhile\u001b[0m \u001b[1;32mnot\u001b[0m \u001b[0mrospy\u001b[0m\u001b[1;33m.\u001b[0m\u001b[0mcore\u001b[0m\u001b[1;33m.\u001b[0m\u001b[0mis_shutdown\u001b[0m\u001b[1;33m(\u001b[0m\u001b[1;33m)\u001b[0m \u001b[1;32mand\u001b[0m \u001b[0mwfm\u001b[0m\u001b[1;33m.\u001b[0m\u001b[0mmsg\u001b[0m \u001b[1;32mis\u001b[0m \u001b[0mNone\u001b[0m\u001b[1;33m:\u001b[0m\u001b[1;33m\u001b[0m\u001b[0m\n\u001b[1;32m--> 421\u001b[1;33m                 \u001b[0mrospy\u001b[0m\u001b[1;33m.\u001b[0m\u001b[0mrostime\u001b[0m\u001b[1;33m.\u001b[0m\u001b[0mwallsleep\u001b[0m\u001b[1;33m(\u001b[0m\u001b[1;36m0.01\u001b[0m\u001b[1;33m)\u001b[0m\u001b[1;33m\u001b[0m\u001b[0m\n\u001b[0m\u001b[0;32m    422\u001b[0m     \u001b[1;32mfinally\u001b[0m\u001b[1;33m:\u001b[0m\u001b[1;33m\u001b[0m\u001b[0m\n\u001b[0;32m    423\u001b[0m         \u001b[1;32mif\u001b[0m \u001b[0ms\u001b[0m \u001b[1;32mis\u001b[0m \u001b[1;32mnot\u001b[0m \u001b[0mNone\u001b[0m\u001b[1;33m:\u001b[0m\u001b[1;33m\u001b[0m\u001b[0m\n",
      "\u001b[1;32m/opt/ros/kinetic/lib/python2.7/dist-packages/rospy/rostime.pyc\u001b[0m in \u001b[0;36mwallsleep\u001b[1;34m(duration)\u001b[0m\n\u001b[0;32m    275\u001b[0m             \u001b[1;32mpass\u001b[0m\u001b[1;33m\u001b[0m\u001b[0m\n\u001b[0;32m    276\u001b[0m     \u001b[1;32melse\u001b[0m\u001b[1;33m:\u001b[0m\u001b[1;33m\u001b[0m\u001b[0m\n\u001b[1;32m--> 277\u001b[1;33m         \u001b[0mtime\u001b[0m\u001b[1;33m.\u001b[0m\u001b[0msleep\u001b[0m\u001b[1;33m(\u001b[0m\u001b[0mduration\u001b[0m\u001b[1;33m)\u001b[0m\u001b[1;33m\u001b[0m\u001b[0m\n\u001b[0m",
      "\u001b[1;31mKeyboardInterrupt\u001b[0m: "
     ]
    }
   ],
   "source": [
    "# after tag detection, move the robots\n",
    "\n",
    "pose_callback()\n"
   ]
  },
  {
   "cell_type": "code",
   "execution_count": null,
   "metadata": {},
   "outputs": [],
   "source": []
  }
 ],
 "metadata": {
  "kernelspec": {
   "display_name": "Python 2",
   "language": "python",
   "name": "python2"
  },
  "language_info": {
   "codemirror_mode": {
    "name": "ipython",
    "version": 2
   },
   "file_extension": ".py",
   "mimetype": "text/x-python",
   "name": "python",
   "nbconvert_exporter": "python",
   "pygments_lexer": "ipython2",
   "version": "2.7.15"
  }
 },
 "nbformat": 4,
 "nbformat_minor": 2
}

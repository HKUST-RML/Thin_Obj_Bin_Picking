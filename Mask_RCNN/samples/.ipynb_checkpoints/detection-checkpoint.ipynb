{
 "cells": [
  {
   "cell_type": "markdown",
   "metadata": {},
   "source": [
    "# Mask R-CNN Demo\n",
    "\n",
    "A quick intro to using the pre-trained model to detect and segment objects."
   ]
  },
  {
   "cell_type": "code",
   "execution_count": 1,
   "metadata": {},
   "outputs": [
    {
     "name": "stderr",
     "output_type": "stream",
     "text": [
      "Using TensorFlow backend.\n"
     ]
    }
   ],
   "source": [
    "import os\n",
    "import sys\n",
    "import scipy\n",
    "import random\n",
    "import math\n",
    "import numpy as np\n",
    "import skimage.io\n",
    "import matplotlib\n",
    "import matplotlib.pyplot as plt\n",
    "import datetime\n",
    "import cv2\n",
    "%matplotlib inline\n",
    "\n",
    "# Root directory of the project\n",
    "ROOT_DIR = os.path.abspath(\"../\")\n",
    "\n",
    "# Import Mask RCNN\n",
    "sys.path.append(ROOT_DIR)  # To find local version of the library\n",
    "from mrcnn.config import Config\n",
    "from mrcnn import utils\n",
    "import mrcnn.model as modellib\n",
    "from mrcnn import visualize\n",
    "# Import COCO config\n",
    "#sys.path.append(os.path.join(ROOT_DIR, \"samples/balloon/\"))  # To find local version\n",
    "BLISTER_DIR = os.path.join(ROOT_DIR, \"datasets/blister\")\n",
    "\n",
    "import coco\n",
    "\n",
    "from samples.blister import blister_mul_class\n",
    "\n",
    "%matplotlib inline \n",
    "\n",
    "# Directory to save logs and trained model\n",
    "MODEL_DIR = os.path.join(ROOT_DIR, \"logs\")\n",
    "\n",
    "# Local path to trained weights file\n",
    "COCO_MODEL_PATH = os.path.join(ROOT_DIR, \"mask_rcnn_coco.h5\")\n",
    "BLISTER_MODEL_PATH = \"../mask_rcnn_blister_real_0050.h5\"\n",
    "\n",
    "# Download COCO trained weights from Releases if needed\n",
    "if not os.path.exists(COCO_MODEL_PATH):\n",
    "    utils.download_trained_weights(COCO_MODEL_PATH)\n",
    "\n",
    "# Directory of images to run detection on\n",
    "IMAGE_DIR = os.path.join(ROOT_DIR, \"images\")\n",
    "\n",
    "# ROS packages\n",
    "import rospy\n",
    "import geometry_msgs.msg\n",
    "import time\n",
    "import roslib; roslib.load_manifest('ur_driver')\n",
    "import actionlib\n",
    "from std_msgs.msg import String\n",
    "# ROS Image message\n",
    "from sensor_msgs.msg import Image\n",
    "from thin_obj_bin_picking.msg import blister_pose\n",
    "# ROS Image message -> OpenCV2 image converter\n",
    "from cv_bridge import CvBridge, CvBridgeError\n",
    "#import tf"
   ]
  },
  {
   "cell_type": "markdown",
   "metadata": {},
   "source": [
    "## Configurations\n",
    "\n",
    "We'll be using a model trained on the MS-COCO dataset. The configurations of this model are in the ```CocoConfig``` class in ```coco.py```.\n",
    "\n",
    "For inferencing, modify the configurations a bit to fit the task. To do so, sub-class the ```CocoConfig``` class and override the attributes you need to change."
   ]
  },
  {
   "cell_type": "code",
   "execution_count": 2,
   "metadata": {},
   "outputs": [
    {
     "name": "stdout",
     "output_type": "stream",
     "text": [
      "\n",
      "Configurations:\n",
      "BACKBONE                       resnet101\n",
      "BACKBONE_STRIDES               [4, 8, 16, 32, 64]\n",
      "BATCH_SIZE                     1\n",
      "BBOX_STD_DEV                   [0.1 0.1 0.2 0.2]\n",
      "COMPUTE_BACKBONE_SHAPE         None\n",
      "DETECTION_MAX_INSTANCES        100\n",
      "DETECTION_MIN_CONFIDENCE       0.9\n",
      "DETECTION_NMS_THRESHOLD        0.3\n",
      "FPN_CLASSIF_FC_LAYERS_SIZE     1024\n",
      "GPU_COUNT                      1\n",
      "GRADIENT_CLIP_NORM             5.0\n",
      "IMAGES_PER_GPU                 1\n",
      "IMAGE_CHANNEL_COUNT            3\n",
      "IMAGE_MAX_DIM                  1024\n",
      "IMAGE_META_SIZE                15\n",
      "IMAGE_MIN_DIM                  800\n",
      "IMAGE_MIN_SCALE                0\n",
      "IMAGE_RESIZE_MODE              square\n",
      "IMAGE_SHAPE                    [1024 1024    3]\n",
      "LEARNING_MOMENTUM              0.9\n",
      "LEARNING_RATE                  0.001\n",
      "LOSS_WEIGHTS                   {'rpn_class_loss': 1.0, 'rpn_bbox_loss': 1.0, 'mrcnn_class_loss': 1.0, 'mrcnn_bbox_loss': 1.0, 'mrcnn_mask_loss': 1.0}\n",
      "MASK_POOL_SIZE                 14\n",
      "MASK_SHAPE                     [28, 28]\n",
      "MAX_GT_INSTANCES               100\n",
      "MEAN_PIXEL                     [123.7 116.8 103.9]\n",
      "MINI_MASK_SHAPE                (56, 56)\n",
      "NAME                           blister\n",
      "NUM_CLASSES                    3\n",
      "POOL_SIZE                      7\n",
      "POST_NMS_ROIS_INFERENCE        1000\n",
      "POST_NMS_ROIS_TRAINING         2000\n",
      "PRE_NMS_LIMIT                  6000\n",
      "ROI_POSITIVE_RATIO             0.33\n",
      "RPN_ANCHOR_RATIOS              [0.5, 1, 2]\n",
      "RPN_ANCHOR_SCALES              (32, 64, 128, 256, 512)\n",
      "RPN_ANCHOR_STRIDE              1\n",
      "RPN_BBOX_STD_DEV               [0.1 0.1 0.2 0.2]\n",
      "RPN_NMS_THRESHOLD              0.7\n",
      "RPN_TRAIN_ANCHORS_PER_IMAGE    256\n",
      "STEPS_PER_EPOCH                249\n",
      "TOP_DOWN_PYRAMID_SIZE          256\n",
      "TRAIN_BN                       False\n",
      "TRAIN_ROIS_PER_IMAGE           200\n",
      "USE_MINI_MASK                  True\n",
      "USE_RPN_ROIS                   True\n",
      "VALIDATION_STEPS               50\n",
      "WEIGHT_DECAY                   0.0001\n",
      "\n",
      "\n"
     ]
    }
   ],
   "source": [
    "class InferenceConfig(blister_mul_class.BlisterConfig):\n",
    "    # Set batch size to 1 since we'll be running inference on\n",
    "    # one image at a time. Batch size = GPU_COUNT * IMAGES_PER_GPU\n",
    "    GPU_COUNT = 1\n",
    "    IMAGES_PER_GPU = 1\n",
    "\n",
    "config = InferenceConfig()\n",
    "config.display()"
   ]
  },
  {
   "cell_type": "markdown",
   "metadata": {},
   "source": [
    "## Create Model and Load Trained Weights"
   ]
  },
  {
   "cell_type": "code",
   "execution_count": 3,
   "metadata": {
    "scrolled": false
   },
   "outputs": [],
   "source": [
    "# Create model object in inference mode.\n",
    "model = modellib.MaskRCNN(mode=\"inference\", model_dir=MODEL_DIR, config=config)\n",
    "\n",
    "# Load weights trained on MS-COCO\n",
    "model.load_weights(BLISTER_MODEL_PATH, by_name=True)"
   ]
  },
  {
   "cell_type": "code",
   "execution_count": 4,
   "metadata": {
    "scrolled": true
   },
   "outputs": [
    {
     "name": "stdout",
     "output_type": "stream",
     "text": [
      "Image Count: 249\n",
      "Class Count: 3\n",
      "  0. BG                                                \n",
      "  1. head                                              \n",
      "  2. tail                                              \n"
     ]
    }
   ],
   "source": [
    "# Load dataset\n",
    "# Get the dataset from the releases page\n",
    "# https://github.com/matterport/Mask_RCNN/releases\n",
    "dataset = blister_mul_class.BlisterDataset()\n",
    "dataset.load_blister(BLISTER_DIR, \"train\")\n",
    "\n",
    "# Must call before using the dataset\n",
    "dataset.prepare()\n",
    "\n",
    "print(\"Image Count: {}\".format(len(dataset.image_ids)))\n",
    "print(\"Class Count: {}\".format(dataset.num_classes))\n",
    "for i, info in enumerate(dataset.class_info):\n",
    "    print(\"{:3}. {:50}\".format(i, info['name']))\n",
    "    \n",
    "#image_ids = np.random.choice(dataset.image_ids, 4)\n",
    "#for image_id in image_ids:\n",
    "#    mask, class_ids = dataset.load_mask(image_id)\n",
    "    \n",
    "#print(dataset.class_names)\n",
    "#print(dataset.image_ids)"
   ]
  },
  {
   "cell_type": "markdown",
   "metadata": {},
   "source": [
    "## Class Names\n",
    "\n",
    "The model classifies objects and returns class IDs, which are integer value that identify each class. Some datasets assign integer values to their classes and some don't. For example, in the MS-COCO dataset, the 'person' class is 1 and 'teddy bear' is 88. The IDs are often sequential, but not always. The COCO dataset, for example, has classes associated with class IDs 70 and 72, but not 71.\n",
    "\n",
    "To improve consistency, and to support training on data from multiple sources at the same time, our ```Dataset``` class assigns it's own sequential integer IDs to each class. For example, if you load the COCO dataset using our ```Dataset``` class, the 'person' class would get class ID = 1 (just like COCO) and the 'teddy bear' class is 78 (different from COCO). Keep that in mind when mapping class IDs to class names.\n",
    "\n",
    "To get the list of class names, you'd load the dataset and then use the ```class_names``` property like this.\n",
    "```\n",
    "# Load COCO dataset\n",
    "dataset = coco.CocoDataset()\n",
    "dataset.load_coco(COCO_DIR, \"train\")\n",
    "dataset.prepare()\n",
    "\n",
    "# Print class names\n",
    "print(dataset.class_names)\n",
    "```\n",
    "\n",
    "We don't want to require you to download the COCO dataset just to run this demo, so we're including the list of class names below. The index of the class name in the list represent its ID (first class is 0, second is 1, third is 2, ...etc.)"
   ]
  },
  {
   "cell_type": "code",
   "execution_count": 5,
   "metadata": {},
   "outputs": [],
   "source": [
    "class_names = dataset.class_names"
   ]
  },
  {
   "cell_type": "markdown",
   "metadata": {},
   "source": [
    "## Run Object Detection"
   ]
  },
  {
   "cell_type": "code",
   "execution_count": 6,
   "metadata": {},
   "outputs": [],
   "source": [
    "# Rank the mask areas, output the maximum area\n",
    "def max_area(area):\n",
    "    area_max = 0\n",
    "    index = 0\n",
    "    for i, a in enumerate(area):\n",
    "        if(a > area_max):\n",
    "            area_max = a\n",
    "            index = i\n",
    "    return area_max, index"
   ]
  },
  {
   "cell_type": "code",
   "execution_count": 7,
   "metadata": {},
   "outputs": [],
   "source": [
    "# Select the maximum area mask, output the mask and its corners\n",
    "def mask_rank(img, mask):\n",
    "    mask_int = mask.astype(np.uint8)\n",
    "    area = np.zeros([mask_int.shape[2]], dtype=np.int)\n",
    "    boxx = np.zeros([4, 2, mask_int.shape[2]], dtype = np.float)\n",
    "    img_copy = img.copy()\n",
    "    for i in range(mask_int.shape[2]):        \n",
    "        mask_copy = mask_int[:,:,i].copy()\n",
    "        plt.imshow(mask_copy)\n",
    "        plt.show()\n",
    "        area[i] = mask_copy.sum()\n",
    "        print(area[i])\n",
    "    \n",
    "    mmax, index = max_area(area)\n",
    "    im2,contours,hierarchy = cv2.findContours(mask_int[:,:,index].copy(), 1, 2)\n",
    "    cnt = contours[0]     \n",
    "    for j in range(len(contours)):\n",
    "        if(len(contours[j]) > len(cnt)):\n",
    "            cnt = contours[j]\n",
    "    hull = cv2.convexHull(cnt,returnPoints = True)\n",
    "    rect = cv2.minAreaRect(hull)\n",
    "    box = cv2.boxPoints(rect)\n",
    "    box = np.int0(box)\n",
    "    cv2.drawContours(img_copy,[box],0,(0,0,255),2)\n",
    "    plt.imshow(img_copy)\n",
    "    plt.show()\n",
    "    print(box)\n",
    "    return mask_int[:,:,index].copy(), box"
   ]
  },
  {
   "cell_type": "code",
   "execution_count": 8,
   "metadata": {},
   "outputs": [],
   "source": [
    "# Compute position of mask center and rotation of mask\n",
    "def get_mask_pose(max_boxx):\n",
    "    position = (max_boxx[0] + max_boxx[2]) / 2\n",
    "    # Counterclockwise is positive direction\n",
    "    if(np.linalg.norm(max_boxx[0]-max_boxx[1]) > np.linalg.norm(max_boxx[1]-max_boxx[2])):\n",
    "        rotation = math.atan2((max_boxx[2]-max_boxx[1])[1], (max_boxx[2]-max_boxx[1])[0])\n",
    "        print(\"rotation 111\")\n",
    "    else:\n",
    "        rotation = math.atan2((max_boxx[1]-max_boxx[0])[1], (max_boxx[1]-max_boxx[0])[0])\n",
    "        print(\"rotation 222\")\n",
    "    pose={\n",
    "        'x':position[0],\n",
    "        'y':position[1],\n",
    "        'rz':rotation\n",
    "    }\n",
    "    return pose"
   ]
  },
  {
   "cell_type": "code",
   "execution_count": 9,
   "metadata": {},
   "outputs": [],
   "source": [
    "is_detect = 0\n",
    "img_index = 0\n",
    "def img_index_callback(data):\n",
    "    global img_index\n",
    "    global is_detect\n",
    "    \n",
    "    print('img_index_call_back' + data.data)\n",
    "    img_index = data.data\n",
    "    is_detect = 1\n"
   ]
  },
  {
   "cell_type": "code",
   "execution_count": 10,
   "metadata": {},
   "outputs": [
    {
     "data": {
      "text/plain": [
       "<rospy.topics.Subscriber at 0x7f7dfeea8f60>"
      ]
     },
     "execution_count": 10,
     "metadata": {},
     "output_type": "execute_result"
    }
   ],
   "source": [
    "rospy.init_node('img_segmentation')\n",
    "rospy.Subscriber('/img_index', String, img_index_callback)"
   ]
  },
  {
   "cell_type": "code",
   "execution_count": 1,
   "metadata": {
    "scrolled": false
   },
   "outputs": [
    {
     "ename": "NameError",
     "evalue": "name 'is_detect' is not defined",
     "output_type": "error",
     "traceback": [
      "\u001b[0;31m---------------------------------------------------------\u001b[0m",
      "\u001b[0;31mNameError\u001b[0m               Traceback (most recent call last)",
      "\u001b[0;32m<ipython-input-1-73724c4da53c>\u001b[0m in \u001b[0;36m<module>\u001b[0;34m\u001b[0m\n\u001b[1;32m      7\u001b[0m \u001b[0;32mwhile\u001b[0m\u001b[0;34m(\u001b[0m\u001b[0;32mTrue\u001b[0m\u001b[0;34m)\u001b[0m\u001b[0;34m:\u001b[0m\u001b[0;34m\u001b[0m\u001b[0;34m\u001b[0m\u001b[0m\n\u001b[1;32m      8\u001b[0m \u001b[0;34m\u001b[0m\u001b[0m\n\u001b[0;32m----> 9\u001b[0;31m     \u001b[0;32mif\u001b[0m\u001b[0;34m(\u001b[0m\u001b[0mis_detect\u001b[0m \u001b[0;34m==\u001b[0m \u001b[0;36m1\u001b[0m\u001b[0;34m)\u001b[0m\u001b[0;34m:\u001b[0m\u001b[0;34m\u001b[0m\u001b[0;34m\u001b[0m\u001b[0m\n\u001b[0m\u001b[1;32m     10\u001b[0m         \u001b[0mpose_pub\u001b[0m \u001b[0;34m=\u001b[0m \u001b[0mrospy\u001b[0m\u001b[0;34m.\u001b[0m\u001b[0mPublisher\u001b[0m\u001b[0;34m(\u001b[0m\u001b[0;34m'/blister_pose'\u001b[0m\u001b[0;34m,\u001b[0m \u001b[0mblister_pose\u001b[0m\u001b[0;34m,\u001b[0m \u001b[0mqueue_size\u001b[0m\u001b[0;34m=\u001b[0m\u001b[0;36m10\u001b[0m\u001b[0;34m)\u001b[0m\u001b[0;34m\u001b[0m\u001b[0;34m\u001b[0m\u001b[0m\n\u001b[1;32m     11\u001b[0m         \u001b[0;31m# Load a the image\u001b[0m\u001b[0;34m\u001b[0m\u001b[0;34m\u001b[0m\u001b[0;34m\u001b[0m\u001b[0m\n",
      "\u001b[0;31mNameError\u001b[0m: name 'is_detect' is not defined"
     ]
    }
   ],
   "source": [
    "# from camera calibration\n",
    "cx = 320.37#312.8339\n",
    "cy = 236.51#247.5236\n",
    "fx = 508.6722\n",
    "fy = 511.8043\n",
    "\n",
    "while(True):\n",
    "    if(is_detect == 1):\n",
    "        pose_pub = rospy.Publisher('/blister_pose', blister_pose, queue_size=10)\n",
    "        # Load a the image\n",
    "        #image = scipy.misc.imread('IMG_0393.JPG')\n",
    "        image = scipy.misc.imread('/home/qxuaj/catkin_ws/src/thin_obj_bin_picking/image/'+ img_index +'.jpeg')\n",
    "\n",
    "        # Run detection\n",
    "        results = model.detect([image], verbose=1)\n",
    "        \n",
    "        # Visualize results\n",
    "        r = results[0]\n",
    "        visualize.display_instances(image, r['rois'], r['masks'], r['class_ids'], \n",
    "                            class_names, r['scores'])\n",
    "        \n",
    "        #img = cv2.imread('IMG_0393.JPG',0)\n",
    "        img = cv2.imread('/home/qxuaj/catkin_ws/src/thin_obj_bin_picking/image/'+ img_index +'.jpeg',0)\n",
    "        #print(mask_rank(img, r['masks']))\n",
    "        mask_max, box_max = mask_rank(img, r['masks'])\n",
    "\n",
    "        plt.imshow(mask_max)\n",
    "        plt.show()\n",
    "        \n",
    "        pose = get_mask_pose(box_max)\n",
    "        print(pose['x'], pose['y'])\n",
    "        print(pose['rz']*180/math.pi)\n",
    "        \n",
    "        blister_pose_msg = blister_pose()\n",
    "        #blister_pose_msg.x = (pose['x'] - cx) / fx # transfer pixel position to camera frame coordinates\n",
    "        #blister_pose_msg.y = (pose['y'] - cy) / fy\n",
    "        blister_pose_msg.x = (pose['x'] - cx) * (102 / 226.1) * 0.001 # transfer pixel position to camera frame coordinates\n",
    "        blister_pose_msg.y = (pose['y'] - cy) * (102 / 226.1) * 0.001 #183 165 332\n",
    "        blister_pose_msg.angle = pose['rz']*180/math.pi\n",
    "        pose_pub.publish(blister_pose_msg)\n",
    "        print(blister_pose_msg.x, \" \", blister_pose_msg.y)\n",
    "        \n",
    "        is_detect = 0"
   ]
  },
  {
   "cell_type": "code",
   "execution_count": null,
   "metadata": {},
   "outputs": [],
   "source": []
  },
  {
   "cell_type": "code",
   "execution_count": null,
   "metadata": {},
   "outputs": [],
   "source": []
  },
  {
   "cell_type": "code",
   "execution_count": null,
   "metadata": {},
   "outputs": [],
   "source": []
  },
  {
   "cell_type": "code",
   "execution_count": null,
   "metadata": {},
   "outputs": [],
   "source": []
  },
  {
   "cell_type": "code",
   "execution_count": null,
   "metadata": {},
   "outputs": [],
   "source": []
  },
  {
   "cell_type": "code",
   "execution_count": null,
   "metadata": {},
   "outputs": [],
   "source": []
  },
  {
   "cell_type": "code",
   "execution_count": null,
   "metadata": {},
   "outputs": [],
   "source": []
  }
 ],
 "metadata": {
  "kernelspec": {
   "display_name": "Python 3",
   "language": "python",
   "name": "python3"
  },
  "language_info": {
   "codemirror_mode": {
    "name": "ipython",
    "version": 3
   },
   "file_extension": ".py",
   "mimetype": "text/x-python",
   "name": "python",
   "nbconvert_exporter": "python",
   "pygments_lexer": "ipython3",
   "version": "3.6.7"
  }
 },
 "nbformat": 4,
 "nbformat_minor": 2
}
